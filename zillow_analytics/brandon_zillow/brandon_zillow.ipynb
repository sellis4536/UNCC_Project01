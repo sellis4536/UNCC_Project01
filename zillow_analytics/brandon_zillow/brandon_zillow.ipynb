{
 "cells": [
  {
   "cell_type": "code",
   "execution_count": 1,
   "metadata": {},
   "outputs": [],
   "source": [
    "import pandas as pd\n",
    "import numpy as np\n",
    "import csv \n",
    "csvfile = \"properties_2017.csv\"\n",
    "zillow_df = pd.read_csv(csvfile)"
   ]
  },
  {
   "cell_type": "code",
   "execution_count": 2,
   "metadata": {},
   "outputs": [],
   "source": [
    "# losAngelesNotFinal = losAngelesNumber.set_index([\"fips\"])\n",
    "# countyLA = losAngelesNotFinal.rename({6037: \"Los Angeles\"})"
   ]
  },
  {
   "cell_type": "code",
   "execution_count": 3,
   "metadata": {},
   "outputs": [],
   "source": [
    "# orangeCountyNotFinal = orangeCountyNumber.set_index([\"fips\"])\n",
    "# countyOrange = orangeCountyNotFinal.rename({6059: \"Orange County\"})"
   ]
  },
  {
   "cell_type": "code",
   "execution_count": 4,
   "metadata": {},
   "outputs": [],
   "source": [
    "# venturaCountyNotFinal = venturaCountyNumber.set_index([\"fips\"])\n",
    "# countyVentura = venturaCountyNotFinal.rename({6111: \"Ventura County\"})"
   ]
  },
  {
   "cell_type": "code",
   "execution_count": 5,
   "metadata": {},
   "outputs": [],
   "source": [
    "countyNumbers = zillow_df.set_index([\"fips\"])"
   ]
  },
  {
   "cell_type": "code",
   "execution_count": 6,
   "metadata": {},
   "outputs": [],
   "source": [
    "countiesRenamed = countyNumbers.rename({6037: \"Los Angeles\", 6059: \"Orange County\", 6111: \"Ventura County\"})"
   ]
  },
  {
   "cell_type": "code",
   "execution_count": 7,
   "metadata": {},
   "outputs": [],
   "source": [
    "losAngeles = zillow_df.loc[zillow_df[\"fips\"] == 6037, :]\n",
    "losAngelesNumbers = losAngeles.set_index([\"fips\"])"
   ]
  },
  {
   "cell_type": "code",
   "execution_count": 8,
   "metadata": {},
   "outputs": [],
   "source": [
    "orangeCounty = zillow_df.loc[zillow_df[\"fips\"] == 6059, :]\n",
    "orangeCountyNumbers = orangeCounty.set_index([\"fips\"])"
   ]
  },
  {
   "cell_type": "code",
   "execution_count": 9,
   "metadata": {},
   "outputs": [],
   "source": [
    "venturaCounty = zillow_df.loc[zillow_df[\"fips\"] == 6111, :]\n",
    "venturaCountyNumbers = venturaCounty.set_index([\"fips\"])"
   ]
  },
  {
   "cell_type": "code",
   "execution_count": null,
   "metadata": {},
   "outputs": [],
   "source": []
  },
  {
   "cell_type": "code",
   "execution_count": null,
   "metadata": {},
   "outputs": [],
   "source": []
  }
 ],
 "metadata": {
  "kernelspec": {
   "display_name": "Python 3",
   "language": "python",
   "name": "python3"
  },
  "language_info": {
   "codemirror_mode": {
    "name": "ipython",
    "version": 3
   },
   "file_extension": ".py",
   "mimetype": "text/x-python",
   "name": "python",
   "nbconvert_exporter": "python",
   "pygments_lexer": "ipython3",
   "version": "3.6.5"
  }
 },
 "nbformat": 4,
 "nbformat_minor": 2
}
